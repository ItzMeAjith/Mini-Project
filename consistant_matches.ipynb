{
 "cells": [
  {
   "cell_type": "code",
   "execution_count": 61,
   "id": "f9560163",
   "metadata": {},
   "outputs": [],
   "source": [
    "import numpy as np # linear algebra\n",
    "import pandas as pd # data processing, CSV file I/O (e.g. pd.read_csv)\n",
    "import matplotlib.pyplot as plt"
   ]
  },
  {
   "cell_type": "code",
   "execution_count": 62,
   "id": "c461a0b1",
   "metadata": {},
   "outputs": [
    {
     "name": "stdout",
     "output_type": "stream",
     "text": [
      "<class 'pandas.core.frame.DataFrame'>\n",
      "RangeIndex: 636 entries, 0 to 635\n",
      "Data columns (total 18 columns):\n",
      " #   Column           Non-Null Count  Dtype  \n",
      "---  ------           --------------  -----  \n",
      " 0   id               636 non-null    int64  \n",
      " 1   season           636 non-null    int64  \n",
      " 2   city             629 non-null    object \n",
      " 3   date             636 non-null    object \n",
      " 4   team1            636 non-null    object \n",
      " 5   team2            636 non-null    object \n",
      " 6   toss_winner      636 non-null    object \n",
      " 7   toss_decision    636 non-null    object \n",
      " 8   result           636 non-null    object \n",
      " 9   dl_applied       636 non-null    int64  \n",
      " 10  winner           633 non-null    object \n",
      " 11  win_by_runs      636 non-null    int64  \n",
      " 12  win_by_wickets   636 non-null    int64  \n",
      " 13  player_of_match  633 non-null    object \n",
      " 14  venue            636 non-null    object \n",
      " 15  umpire1          635 non-null    object \n",
      " 16  umpire2          635 non-null    object \n",
      " 17  umpire3          0 non-null      float64\n",
      "dtypes: float64(1), int64(5), object(12)\n",
      "memory usage: 89.6+ KB\n"
     ]
    },
    {
     "data": {
      "text/html": [
       "<div>\n",
       "<style scoped>\n",
       "    .dataframe tbody tr th:only-of-type {\n",
       "        vertical-align: middle;\n",
       "    }\n",
       "\n",
       "    .dataframe tbody tr th {\n",
       "        vertical-align: top;\n",
       "    }\n",
       "\n",
       "    .dataframe thead th {\n",
       "        text-align: right;\n",
       "    }\n",
       "</style>\n",
       "<table border=\"1\" class=\"dataframe\">\n",
       "  <thead>\n",
       "    <tr style=\"text-align: right;\">\n",
       "      <th></th>\n",
       "      <th>id</th>\n",
       "      <th>season</th>\n",
       "      <th>city</th>\n",
       "      <th>date</th>\n",
       "      <th>team1</th>\n",
       "      <th>team2</th>\n",
       "      <th>toss_winner</th>\n",
       "      <th>toss_decision</th>\n",
       "      <th>result</th>\n",
       "      <th>dl_applied</th>\n",
       "      <th>winner</th>\n",
       "      <th>win_by_runs</th>\n",
       "      <th>win_by_wickets</th>\n",
       "      <th>player_of_match</th>\n",
       "      <th>venue</th>\n",
       "      <th>umpire1</th>\n",
       "      <th>umpire2</th>\n",
       "      <th>umpire3</th>\n",
       "    </tr>\n",
       "  </thead>\n",
       "  <tbody>\n",
       "    <tr>\n",
       "      <th>0</th>\n",
       "      <td>1</td>\n",
       "      <td>2017</td>\n",
       "      <td>Hyderabad</td>\n",
       "      <td>05-04-2017</td>\n",
       "      <td>Sunrisers Hyderabad</td>\n",
       "      <td>Royal Challengers Bangalore</td>\n",
       "      <td>Royal Challengers Bangalore</td>\n",
       "      <td>field</td>\n",
       "      <td>normal</td>\n",
       "      <td>0</td>\n",
       "      <td>Sunrisers Hyderabad</td>\n",
       "      <td>35</td>\n",
       "      <td>0</td>\n",
       "      <td>Yuvraj Singh</td>\n",
       "      <td>Rajiv Gandhi International Stadium, Uppal</td>\n",
       "      <td>AY Dandekar</td>\n",
       "      <td>NJ Llong</td>\n",
       "      <td>NaN</td>\n",
       "    </tr>\n",
       "    <tr>\n",
       "      <th>1</th>\n",
       "      <td>2</td>\n",
       "      <td>2017</td>\n",
       "      <td>Pune</td>\n",
       "      <td>06-04-2017</td>\n",
       "      <td>Mumbai Indians</td>\n",
       "      <td>Rising Pune Supergiants</td>\n",
       "      <td>Rising Pune Supergiants</td>\n",
       "      <td>field</td>\n",
       "      <td>normal</td>\n",
       "      <td>0</td>\n",
       "      <td>Rising Pune Supergiants</td>\n",
       "      <td>0</td>\n",
       "      <td>7</td>\n",
       "      <td>SPD Smith</td>\n",
       "      <td>Maharashtra Cricket Association Stadium</td>\n",
       "      <td>A Nand Kishore</td>\n",
       "      <td>S Ravi</td>\n",
       "      <td>NaN</td>\n",
       "    </tr>\n",
       "    <tr>\n",
       "      <th>2</th>\n",
       "      <td>3</td>\n",
       "      <td>2017</td>\n",
       "      <td>Rajkot</td>\n",
       "      <td>07-04-2017</td>\n",
       "      <td>Gujarat Lions</td>\n",
       "      <td>Kolkata Knight Riders</td>\n",
       "      <td>Kolkata Knight Riders</td>\n",
       "      <td>field</td>\n",
       "      <td>normal</td>\n",
       "      <td>0</td>\n",
       "      <td>Kolkata Knight Riders</td>\n",
       "      <td>0</td>\n",
       "      <td>10</td>\n",
       "      <td>CA Lynn</td>\n",
       "      <td>Saurashtra Cricket Association Stadium</td>\n",
       "      <td>Nitin Menon</td>\n",
       "      <td>CK Nandan</td>\n",
       "      <td>NaN</td>\n",
       "    </tr>\n",
       "    <tr>\n",
       "      <th>3</th>\n",
       "      <td>4</td>\n",
       "      <td>2017</td>\n",
       "      <td>Indore</td>\n",
       "      <td>08-04-2017</td>\n",
       "      <td>Rising Pune Supergiants</td>\n",
       "      <td>Kings XI Punjab</td>\n",
       "      <td>Kings XI Punjab</td>\n",
       "      <td>field</td>\n",
       "      <td>normal</td>\n",
       "      <td>0</td>\n",
       "      <td>Kings XI Punjab</td>\n",
       "      <td>0</td>\n",
       "      <td>6</td>\n",
       "      <td>GJ Maxwell</td>\n",
       "      <td>Holkar Cricket Stadium</td>\n",
       "      <td>AK Chaudhary</td>\n",
       "      <td>C Shamshuddin</td>\n",
       "      <td>NaN</td>\n",
       "    </tr>\n",
       "    <tr>\n",
       "      <th>4</th>\n",
       "      <td>5</td>\n",
       "      <td>2017</td>\n",
       "      <td>Bangalore</td>\n",
       "      <td>08-04-2017</td>\n",
       "      <td>Royal Challengers Bangalore</td>\n",
       "      <td>Delhi Daredevils</td>\n",
       "      <td>Royal Challengers Bangalore</td>\n",
       "      <td>bat</td>\n",
       "      <td>normal</td>\n",
       "      <td>0</td>\n",
       "      <td>Royal Challengers Bangalore</td>\n",
       "      <td>15</td>\n",
       "      <td>0</td>\n",
       "      <td>KM Jadhav</td>\n",
       "      <td>M Chinnaswamy Stadium</td>\n",
       "      <td>NaN</td>\n",
       "      <td>NaN</td>\n",
       "      <td>NaN</td>\n",
       "    </tr>\n",
       "  </tbody>\n",
       "</table>\n",
       "</div>"
      ],
      "text/plain": [
       "   id  season       city        date                        team1  \\\n",
       "0   1    2017  Hyderabad  05-04-2017          Sunrisers Hyderabad   \n",
       "1   2    2017       Pune  06-04-2017               Mumbai Indians   \n",
       "2   3    2017     Rajkot  07-04-2017                Gujarat Lions   \n",
       "3   4    2017     Indore  08-04-2017      Rising Pune Supergiants   \n",
       "4   5    2017  Bangalore  08-04-2017  Royal Challengers Bangalore   \n",
       "\n",
       "                         team2                  toss_winner toss_decision  \\\n",
       "0  Royal Challengers Bangalore  Royal Challengers Bangalore         field   \n",
       "1      Rising Pune Supergiants      Rising Pune Supergiants         field   \n",
       "2        Kolkata Knight Riders        Kolkata Knight Riders         field   \n",
       "3              Kings XI Punjab              Kings XI Punjab         field   \n",
       "4             Delhi Daredevils  Royal Challengers Bangalore           bat   \n",
       "\n",
       "   result  dl_applied                       winner  win_by_runs  \\\n",
       "0  normal           0          Sunrisers Hyderabad           35   \n",
       "1  normal           0      Rising Pune Supergiants            0   \n",
       "2  normal           0        Kolkata Knight Riders            0   \n",
       "3  normal           0              Kings XI Punjab            0   \n",
       "4  normal           0  Royal Challengers Bangalore           15   \n",
       "\n",
       "   win_by_wickets player_of_match                                      venue  \\\n",
       "0               0    Yuvraj Singh  Rajiv Gandhi International Stadium, Uppal   \n",
       "1               7       SPD Smith    Maharashtra Cricket Association Stadium   \n",
       "2              10         CA Lynn     Saurashtra Cricket Association Stadium   \n",
       "3               6      GJ Maxwell                     Holkar Cricket Stadium   \n",
       "4               0       KM Jadhav                      M Chinnaswamy Stadium   \n",
       "\n",
       "          umpire1        umpire2  umpire3  \n",
       "0     AY Dandekar       NJ Llong      NaN  \n",
       "1  A Nand Kishore         S Ravi      NaN  \n",
       "2     Nitin Menon      CK Nandan      NaN  \n",
       "3    AK Chaudhary  C Shamshuddin      NaN  \n",
       "4             NaN            NaN      NaN  "
      ]
     },
     "execution_count": 62,
     "metadata": {},
     "output_type": "execute_result"
    }
   ],
   "source": [
    "matches=pd.read_csv('matches.csv')\n",
    "matches.info()\n",
    "matches.head()"
   ]
  },
  {
   "cell_type": "code",
   "execution_count": 63,
   "id": "09f8db28",
   "metadata": {},
   "outputs": [
    {
     "data": {
      "text/html": [
       "<div>\n",
       "<style scoped>\n",
       "    .dataframe tbody tr th:only-of-type {\n",
       "        vertical-align: middle;\n",
       "    }\n",
       "\n",
       "    .dataframe tbody tr th {\n",
       "        vertical-align: top;\n",
       "    }\n",
       "\n",
       "    .dataframe thead th {\n",
       "        text-align: right;\n",
       "    }\n",
       "</style>\n",
       "<table border=\"1\" class=\"dataframe\">\n",
       "  <thead>\n",
       "    <tr style=\"text-align: right;\">\n",
       "      <th></th>\n",
       "      <th>id</th>\n",
       "      <th>season</th>\n",
       "      <th>city</th>\n",
       "      <th>date</th>\n",
       "      <th>team1</th>\n",
       "      <th>team2</th>\n",
       "      <th>toss_winner</th>\n",
       "      <th>toss_decision</th>\n",
       "      <th>result</th>\n",
       "      <th>dl_applied</th>\n",
       "      <th>winner</th>\n",
       "      <th>win_by_runs</th>\n",
       "      <th>win_by_wickets</th>\n",
       "      <th>player_of_match</th>\n",
       "      <th>venue</th>\n",
       "      <th>umpire1</th>\n",
       "      <th>umpire2</th>\n",
       "      <th>umpire3</th>\n",
       "    </tr>\n",
       "  </thead>\n",
       "  <tbody>\n",
       "    <tr>\n",
       "      <th>461</th>\n",
       "      <td>462</td>\n",
       "      <td>2014</td>\n",
       "      <td>NaN</td>\n",
       "      <td>19-04-2014</td>\n",
       "      <td>Mumbai Indians</td>\n",
       "      <td>Royal Challengers Bangalore</td>\n",
       "      <td>Royal Challengers Bangalore</td>\n",
       "      <td>field</td>\n",
       "      <td>normal</td>\n",
       "      <td>0</td>\n",
       "      <td>Royal Challengers Bangalore</td>\n",
       "      <td>0</td>\n",
       "      <td>7</td>\n",
       "      <td>PA Patel</td>\n",
       "      <td>Dubai International Cricket Stadium</td>\n",
       "      <td>Aleem Dar</td>\n",
       "      <td>AK Chaudhary</td>\n",
       "      <td>NaN</td>\n",
       "    </tr>\n",
       "    <tr>\n",
       "      <th>462</th>\n",
       "      <td>463</td>\n",
       "      <td>2014</td>\n",
       "      <td>NaN</td>\n",
       "      <td>19-04-2014</td>\n",
       "      <td>Kolkata Knight Riders</td>\n",
       "      <td>Delhi Daredevils</td>\n",
       "      <td>Kolkata Knight Riders</td>\n",
       "      <td>bat</td>\n",
       "      <td>normal</td>\n",
       "      <td>0</td>\n",
       "      <td>Delhi Daredevils</td>\n",
       "      <td>0</td>\n",
       "      <td>4</td>\n",
       "      <td>JP Duminy</td>\n",
       "      <td>Dubai International Cricket Stadium</td>\n",
       "      <td>Aleem Dar</td>\n",
       "      <td>VA Kulkarni</td>\n",
       "      <td>NaN</td>\n",
       "    </tr>\n",
       "    <tr>\n",
       "      <th>466</th>\n",
       "      <td>467</td>\n",
       "      <td>2014</td>\n",
       "      <td>NaN</td>\n",
       "      <td>23-04-2014</td>\n",
       "      <td>Chennai Super Kings</td>\n",
       "      <td>Rajasthan Royals</td>\n",
       "      <td>Rajasthan Royals</td>\n",
       "      <td>field</td>\n",
       "      <td>normal</td>\n",
       "      <td>0</td>\n",
       "      <td>Chennai Super Kings</td>\n",
       "      <td>7</td>\n",
       "      <td>0</td>\n",
       "      <td>RA Jadeja</td>\n",
       "      <td>Dubai International Cricket Stadium</td>\n",
       "      <td>HDPK Dharmasena</td>\n",
       "      <td>RK Illingworth</td>\n",
       "      <td>NaN</td>\n",
       "    </tr>\n",
       "    <tr>\n",
       "      <th>468</th>\n",
       "      <td>469</td>\n",
       "      <td>2014</td>\n",
       "      <td>NaN</td>\n",
       "      <td>25-04-2014</td>\n",
       "      <td>Sunrisers Hyderabad</td>\n",
       "      <td>Delhi Daredevils</td>\n",
       "      <td>Sunrisers Hyderabad</td>\n",
       "      <td>bat</td>\n",
       "      <td>normal</td>\n",
       "      <td>0</td>\n",
       "      <td>Sunrisers Hyderabad</td>\n",
       "      <td>4</td>\n",
       "      <td>0</td>\n",
       "      <td>AJ Finch</td>\n",
       "      <td>Dubai International Cricket Stadium</td>\n",
       "      <td>M Erasmus</td>\n",
       "      <td>S Ravi</td>\n",
       "      <td>NaN</td>\n",
       "    </tr>\n",
       "    <tr>\n",
       "      <th>469</th>\n",
       "      <td>470</td>\n",
       "      <td>2014</td>\n",
       "      <td>NaN</td>\n",
       "      <td>25-04-2014</td>\n",
       "      <td>Mumbai Indians</td>\n",
       "      <td>Chennai Super Kings</td>\n",
       "      <td>Mumbai Indians</td>\n",
       "      <td>bat</td>\n",
       "      <td>normal</td>\n",
       "      <td>0</td>\n",
       "      <td>Chennai Super Kings</td>\n",
       "      <td>0</td>\n",
       "      <td>7</td>\n",
       "      <td>MM Sharma</td>\n",
       "      <td>Dubai International Cricket Stadium</td>\n",
       "      <td>BF Bowden</td>\n",
       "      <td>M Erasmus</td>\n",
       "      <td>NaN</td>\n",
       "    </tr>\n",
       "    <tr>\n",
       "      <th>474</th>\n",
       "      <td>475</td>\n",
       "      <td>2014</td>\n",
       "      <td>NaN</td>\n",
       "      <td>28-04-2014</td>\n",
       "      <td>Royal Challengers Bangalore</td>\n",
       "      <td>Kings XI Punjab</td>\n",
       "      <td>Kings XI Punjab</td>\n",
       "      <td>field</td>\n",
       "      <td>normal</td>\n",
       "      <td>0</td>\n",
       "      <td>Kings XI Punjab</td>\n",
       "      <td>0</td>\n",
       "      <td>5</td>\n",
       "      <td>Sandeep Sharma</td>\n",
       "      <td>Dubai International Cricket Stadium</td>\n",
       "      <td>BF Bowden</td>\n",
       "      <td>S Ravi</td>\n",
       "      <td>NaN</td>\n",
       "    </tr>\n",
       "    <tr>\n",
       "      <th>476</th>\n",
       "      <td>477</td>\n",
       "      <td>2014</td>\n",
       "      <td>NaN</td>\n",
       "      <td>30-04-2014</td>\n",
       "      <td>Sunrisers Hyderabad</td>\n",
       "      <td>Mumbai Indians</td>\n",
       "      <td>Mumbai Indians</td>\n",
       "      <td>field</td>\n",
       "      <td>normal</td>\n",
       "      <td>0</td>\n",
       "      <td>Sunrisers Hyderabad</td>\n",
       "      <td>15</td>\n",
       "      <td>0</td>\n",
       "      <td>B Kumar</td>\n",
       "      <td>Dubai International Cricket Stadium</td>\n",
       "      <td>HDPK Dharmasena</td>\n",
       "      <td>M Erasmus</td>\n",
       "      <td>NaN</td>\n",
       "    </tr>\n",
       "  </tbody>\n",
       "</table>\n",
       "</div>"
      ],
      "text/plain": [
       "      id  season city        date                        team1  \\\n",
       "461  462    2014  NaN  19-04-2014               Mumbai Indians   \n",
       "462  463    2014  NaN  19-04-2014        Kolkata Knight Riders   \n",
       "466  467    2014  NaN  23-04-2014          Chennai Super Kings   \n",
       "468  469    2014  NaN  25-04-2014          Sunrisers Hyderabad   \n",
       "469  470    2014  NaN  25-04-2014               Mumbai Indians   \n",
       "474  475    2014  NaN  28-04-2014  Royal Challengers Bangalore   \n",
       "476  477    2014  NaN  30-04-2014          Sunrisers Hyderabad   \n",
       "\n",
       "                           team2                  toss_winner toss_decision  \\\n",
       "461  Royal Challengers Bangalore  Royal Challengers Bangalore         field   \n",
       "462             Delhi Daredevils        Kolkata Knight Riders           bat   \n",
       "466             Rajasthan Royals             Rajasthan Royals         field   \n",
       "468             Delhi Daredevils          Sunrisers Hyderabad           bat   \n",
       "469          Chennai Super Kings               Mumbai Indians           bat   \n",
       "474              Kings XI Punjab              Kings XI Punjab         field   \n",
       "476               Mumbai Indians               Mumbai Indians         field   \n",
       "\n",
       "     result  dl_applied                       winner  win_by_runs  \\\n",
       "461  normal           0  Royal Challengers Bangalore            0   \n",
       "462  normal           0             Delhi Daredevils            0   \n",
       "466  normal           0          Chennai Super Kings            7   \n",
       "468  normal           0          Sunrisers Hyderabad            4   \n",
       "469  normal           0          Chennai Super Kings            0   \n",
       "474  normal           0              Kings XI Punjab            0   \n",
       "476  normal           0          Sunrisers Hyderabad           15   \n",
       "\n",
       "     win_by_wickets player_of_match                                venue  \\\n",
       "461               7        PA Patel  Dubai International Cricket Stadium   \n",
       "462               4       JP Duminy  Dubai International Cricket Stadium   \n",
       "466               0       RA Jadeja  Dubai International Cricket Stadium   \n",
       "468               0        AJ Finch  Dubai International Cricket Stadium   \n",
       "469               7       MM Sharma  Dubai International Cricket Stadium   \n",
       "474               5  Sandeep Sharma  Dubai International Cricket Stadium   \n",
       "476               0         B Kumar  Dubai International Cricket Stadium   \n",
       "\n",
       "             umpire1         umpire2  umpire3  \n",
       "461        Aleem Dar    AK Chaudhary      NaN  \n",
       "462        Aleem Dar     VA Kulkarni      NaN  \n",
       "466  HDPK Dharmasena  RK Illingworth      NaN  \n",
       "468        M Erasmus          S Ravi      NaN  \n",
       "469        BF Bowden       M Erasmus      NaN  \n",
       "474        BF Bowden          S Ravi      NaN  \n",
       "476  HDPK Dharmasena       M Erasmus      NaN  "
      ]
     },
     "execution_count": 63,
     "metadata": {},
     "output_type": "execute_result"
    }
   ],
   "source": [
    "matches[pd.isnull(matches['city'])]\n",
    "#find all NaN values in winner column, so that we update this as draw"
   ]
  },
  {
   "cell_type": "code",
   "execution_count": 64,
   "id": "32eb13f7",
   "metadata": {},
   "outputs": [],
   "source": [
    "# Keeping only consistent teams\n",
    "consistent_teams = ['Mumbai Indians','Kolkata Knight Riders','Royal Challengers Bangalore','Chennai Super Kings',\n",
    "                 'Rajasthan Royals','Kings XI Punjab',\n",
    "                 'Sunrisers Hyderabad','Delhi Capitals']"
   ]
  },
  {
   "cell_type": "code",
   "execution_count": 65,
   "id": "3ed76e88",
   "metadata": {},
   "outputs": [],
   "source": [
    "matches= matches[(matches['team1'].isin(consistent_teams)) & (matches['team2'].isin(consistent_teams))]"
   ]
  },
  {
   "cell_type": "code",
   "execution_count": 66,
   "id": "92ab8a00",
   "metadata": {},
   "outputs": [
    {
     "data": {
      "text/plain": [
       "array(['Sunrisers Hyderabad', 'Kolkata Knight Riders',\n",
       "       'Royal Challengers Bangalore', 'Kings XI Punjab', 'Mumbai Indians',\n",
       "       'Chennai Super Kings', 'Rajasthan Royals'], dtype=object)"
      ]
     },
     "execution_count": 66,
     "metadata": {},
     "output_type": "execute_result"
    }
   ],
   "source": [
    "matches['team1'].unique()"
   ]
  },
  {
   "cell_type": "code",
   "execution_count": 67,
   "id": "14643701",
   "metadata": {},
   "outputs": [
    {
     "data": {
      "text/plain": [
       "array(['Royal Challengers Bangalore', 'Mumbai Indians', 'Kings XI Punjab',\n",
       "       'Kolkata Knight Riders', 'Sunrisers Hyderabad', 'Rajasthan Royals',\n",
       "       'Chennai Super Kings'], dtype=object)"
      ]
     },
     "execution_count": 67,
     "metadata": {},
     "output_type": "execute_result"
    }
   ],
   "source": [
    "matches['team2'].unique()"
   ]
  },
  {
   "cell_type": "code",
   "execution_count": 68,
   "id": "2fe97d7a",
   "metadata": {},
   "outputs": [
    {
     "data": {
      "text/html": [
       "<div>\n",
       "<style scoped>\n",
       "    .dataframe tbody tr th:only-of-type {\n",
       "        vertical-align: middle;\n",
       "    }\n",
       "\n",
       "    .dataframe tbody tr th {\n",
       "        vertical-align: top;\n",
       "    }\n",
       "\n",
       "    .dataframe thead th {\n",
       "        text-align: right;\n",
       "    }\n",
       "</style>\n",
       "<table border=\"1\" class=\"dataframe\">\n",
       "  <thead>\n",
       "    <tr style=\"text-align: right;\">\n",
       "      <th></th>\n",
       "      <th>id</th>\n",
       "      <th>season</th>\n",
       "      <th>city</th>\n",
       "      <th>date</th>\n",
       "      <th>team1</th>\n",
       "      <th>team2</th>\n",
       "      <th>toss_winner</th>\n",
       "      <th>toss_decision</th>\n",
       "      <th>result</th>\n",
       "      <th>dl_applied</th>\n",
       "      <th>winner</th>\n",
       "      <th>win_by_runs</th>\n",
       "      <th>win_by_wickets</th>\n",
       "      <th>player_of_match</th>\n",
       "      <th>venue</th>\n",
       "      <th>umpire1</th>\n",
       "      <th>umpire2</th>\n",
       "      <th>umpire3</th>\n",
       "    </tr>\n",
       "  </thead>\n",
       "  <tbody>\n",
       "    <tr>\n",
       "      <th>0</th>\n",
       "      <td>1</td>\n",
       "      <td>2017</td>\n",
       "      <td>Hyderabad</td>\n",
       "      <td>05-04-2017</td>\n",
       "      <td>SRH</td>\n",
       "      <td>RCB</td>\n",
       "      <td>RCB</td>\n",
       "      <td>field</td>\n",
       "      <td>normal</td>\n",
       "      <td>0</td>\n",
       "      <td>SRH</td>\n",
       "      <td>35</td>\n",
       "      <td>0</td>\n",
       "      <td>Yuvraj Singh</td>\n",
       "      <td>Rajiv Gandhi International Stadium, Uppal</td>\n",
       "      <td>AY Dandekar</td>\n",
       "      <td>NJ Llong</td>\n",
       "      <td>NaN</td>\n",
       "    </tr>\n",
       "    <tr>\n",
       "      <th>6</th>\n",
       "      <td>7</td>\n",
       "      <td>2017</td>\n",
       "      <td>Mumbai</td>\n",
       "      <td>09-04-2017</td>\n",
       "      <td>KKR</td>\n",
       "      <td>MI</td>\n",
       "      <td>MI</td>\n",
       "      <td>field</td>\n",
       "      <td>normal</td>\n",
       "      <td>0</td>\n",
       "      <td>MI</td>\n",
       "      <td>0</td>\n",
       "      <td>4</td>\n",
       "      <td>N Rana</td>\n",
       "      <td>Wankhede Stadium</td>\n",
       "      <td>Nitin Menon</td>\n",
       "      <td>CK Nandan</td>\n",
       "      <td>NaN</td>\n",
       "    </tr>\n",
       "  </tbody>\n",
       "</table>\n",
       "</div>"
      ],
      "text/plain": [
       "   id  season       city        date team1 team2 toss_winner toss_decision  \\\n",
       "0   1    2017  Hyderabad  05-04-2017   SRH   RCB         RCB         field   \n",
       "6   7    2017     Mumbai  09-04-2017   KKR    MI          MI         field   \n",
       "\n",
       "   result  dl_applied winner  win_by_runs  win_by_wickets player_of_match  \\\n",
       "0  normal           0    SRH           35               0    Yuvraj Singh   \n",
       "6  normal           0     MI            0               4          N Rana   \n",
       "\n",
       "                                       venue      umpire1    umpire2  umpire3  \n",
       "0  Rajiv Gandhi International Stadium, Uppal  AY Dandekar   NJ Llong      NaN  \n",
       "6                           Wankhede Stadium  Nitin Menon  CK Nandan      NaN  "
      ]
     },
     "execution_count": 68,
     "metadata": {},
     "output_type": "execute_result"
    }
   ],
   "source": [
    "matches.replace(['Mumbai Indians','Kolkata Knight Riders','Royal Challengers Bangalore','Chennai Super Kings',\n",
    "                 'Rajasthan Royals','Kings XI Punjab',\n",
    "                 'Sunrisers Hyderabad','Delhi Capitals']\n",
    "                ,['MI','KKR','RCB','CSK','RR','KXIP','SRH','DC'],inplace=True)\n",
    "\n",
    "\n",
    "matches.head(2)"
   ]
  },
  {
   "cell_type": "code",
   "execution_count": 69,
   "id": "3af13fe5",
   "metadata": {},
   "outputs": [
    {
     "data": {
      "text/plain": [
       "array(['RCB', 'MI', 'KXIP', 'KKR', 'SRH', 'RR', 'CSK'], dtype=object)"
      ]
     },
     "execution_count": 69,
     "metadata": {},
     "output_type": "execute_result"
    }
   ],
   "source": [
    "matches['team2'].unique()"
   ]
  },
  {
   "cell_type": "code",
   "execution_count": 70,
   "id": "3d7a12fb",
   "metadata": {},
   "outputs": [
    {
     "data": {
      "text/plain": [
       "array(['SRH', 'KKR', 'RCB', 'KXIP', 'MI', 'CSK', 'RR'], dtype=object)"
      ]
     },
     "execution_count": 70,
     "metadata": {},
     "output_type": "execute_result"
    }
   ],
   "source": [
    "matches['team1'].unique()"
   ]
  },
  {
   "cell_type": "code",
   "execution_count": 71,
   "id": "242d55c2",
   "metadata": {},
   "outputs": [
    {
     "data": {
      "text/plain": [
       "array(['SRH', 'MI', 'KXIP', 'KKR', 'CSK', 'RCB', 'RR', nan], dtype=object)"
      ]
     },
     "execution_count": 71,
     "metadata": {},
     "output_type": "execute_result"
    }
   ],
   "source": [
    "df = pd.DataFrame(matches)\n",
    "df[\"winner\"].unique()"
   ]
  },
  {
   "cell_type": "code",
   "execution_count": 72,
   "id": "60b461ce",
   "metadata": {},
   "outputs": [],
   "source": [
    "matches['winner'].fillna('Draw', inplace=True)"
   ]
  },
  {
   "cell_type": "code",
   "execution_count": 73,
   "id": "4258bbbf",
   "metadata": {},
   "outputs": [
    {
     "data": {
      "text/plain": [
       "array(['SRH', 'MI', 'KXIP', 'KKR', 'CSK', 'RCB', 'RR', 'Draw'],\n",
       "      dtype=object)"
      ]
     },
     "execution_count": 73,
     "metadata": {},
     "output_type": "execute_result"
    }
   ],
   "source": [
    "df = pd.DataFrame(matches)\n",
    "df[\"winner\"].unique()"
   ]
  },
  {
   "cell_type": "code",
   "execution_count": 74,
   "id": "e35d8bf6",
   "metadata": {},
   "outputs": [
    {
     "data": {
      "text/html": [
       "<div>\n",
       "<style scoped>\n",
       "    .dataframe tbody tr th:only-of-type {\n",
       "        vertical-align: middle;\n",
       "    }\n",
       "\n",
       "    .dataframe tbody tr th {\n",
       "        vertical-align: top;\n",
       "    }\n",
       "\n",
       "    .dataframe thead th {\n",
       "        text-align: right;\n",
       "    }\n",
       "</style>\n",
       "<table border=\"1\" class=\"dataframe\">\n",
       "  <thead>\n",
       "    <tr style=\"text-align: right;\">\n",
       "      <th></th>\n",
       "      <th>id</th>\n",
       "      <th>season</th>\n",
       "      <th>city</th>\n",
       "      <th>date</th>\n",
       "      <th>team1</th>\n",
       "      <th>team2</th>\n",
       "      <th>toss_winner</th>\n",
       "      <th>toss_decision</th>\n",
       "      <th>result</th>\n",
       "      <th>dl_applied</th>\n",
       "      <th>winner</th>\n",
       "      <th>win_by_runs</th>\n",
       "      <th>win_by_wickets</th>\n",
       "      <th>player_of_match</th>\n",
       "      <th>venue</th>\n",
       "      <th>umpire1</th>\n",
       "      <th>umpire2</th>\n",
       "      <th>umpire3</th>\n",
       "    </tr>\n",
       "  </thead>\n",
       "  <tbody>\n",
       "    <tr>\n",
       "      <th>0</th>\n",
       "      <td>1</td>\n",
       "      <td>2017</td>\n",
       "      <td>Hyderabad</td>\n",
       "      <td>05-04-2017</td>\n",
       "      <td>7</td>\n",
       "      <td>3</td>\n",
       "      <td>3</td>\n",
       "      <td>field</td>\n",
       "      <td>normal</td>\n",
       "      <td>0</td>\n",
       "      <td>7</td>\n",
       "      <td>35</td>\n",
       "      <td>0</td>\n",
       "      <td>Yuvraj Singh</td>\n",
       "      <td>Rajiv Gandhi International Stadium, Uppal</td>\n",
       "      <td>AY Dandekar</td>\n",
       "      <td>NJ Llong</td>\n",
       "      <td>NaN</td>\n",
       "    </tr>\n",
       "    <tr>\n",
       "      <th>6</th>\n",
       "      <td>7</td>\n",
       "      <td>2017</td>\n",
       "      <td>Mumbai</td>\n",
       "      <td>09-04-2017</td>\n",
       "      <td>2</td>\n",
       "      <td>1</td>\n",
       "      <td>1</td>\n",
       "      <td>field</td>\n",
       "      <td>normal</td>\n",
       "      <td>0</td>\n",
       "      <td>1</td>\n",
       "      <td>0</td>\n",
       "      <td>4</td>\n",
       "      <td>N Rana</td>\n",
       "      <td>Wankhede Stadium</td>\n",
       "      <td>Nitin Menon</td>\n",
       "      <td>CK Nandan</td>\n",
       "      <td>NaN</td>\n",
       "    </tr>\n",
       "    <tr>\n",
       "      <th>7</th>\n",
       "      <td>8</td>\n",
       "      <td>2017</td>\n",
       "      <td>Indore</td>\n",
       "      <td>10-04-2017</td>\n",
       "      <td>3</td>\n",
       "      <td>6</td>\n",
       "      <td>3</td>\n",
       "      <td>bat</td>\n",
       "      <td>normal</td>\n",
       "      <td>0</td>\n",
       "      <td>6</td>\n",
       "      <td>0</td>\n",
       "      <td>8</td>\n",
       "      <td>AR Patel</td>\n",
       "      <td>Holkar Cricket Stadium</td>\n",
       "      <td>AK Chaudhary</td>\n",
       "      <td>C Shamshuddin</td>\n",
       "      <td>NaN</td>\n",
       "    </tr>\n",
       "    <tr>\n",
       "      <th>9</th>\n",
       "      <td>10</td>\n",
       "      <td>2017</td>\n",
       "      <td>Mumbai</td>\n",
       "      <td>12-04-2017</td>\n",
       "      <td>7</td>\n",
       "      <td>1</td>\n",
       "      <td>1</td>\n",
       "      <td>field</td>\n",
       "      <td>normal</td>\n",
       "      <td>0</td>\n",
       "      <td>1</td>\n",
       "      <td>0</td>\n",
       "      <td>4</td>\n",
       "      <td>JJ Bumrah</td>\n",
       "      <td>Wankhede Stadium</td>\n",
       "      <td>Nitin Menon</td>\n",
       "      <td>CK Nandan</td>\n",
       "      <td>NaN</td>\n",
       "    </tr>\n",
       "    <tr>\n",
       "      <th>10</th>\n",
       "      <td>11</td>\n",
       "      <td>2017</td>\n",
       "      <td>Kolkata</td>\n",
       "      <td>13-04-2017</td>\n",
       "      <td>6</td>\n",
       "      <td>2</td>\n",
       "      <td>2</td>\n",
       "      <td>field</td>\n",
       "      <td>normal</td>\n",
       "      <td>0</td>\n",
       "      <td>2</td>\n",
       "      <td>0</td>\n",
       "      <td>8</td>\n",
       "      <td>SP Narine</td>\n",
       "      <td>Eden Gardens</td>\n",
       "      <td>A Deshmukh</td>\n",
       "      <td>NJ Llong</td>\n",
       "      <td>NaN</td>\n",
       "    </tr>\n",
       "  </tbody>\n",
       "</table>\n",
       "</div>"
      ],
      "text/plain": [
       "    id  season       city        date  team1  team2  toss_winner  \\\n",
       "0    1    2017  Hyderabad  05-04-2017      7      3            3   \n",
       "6    7    2017     Mumbai  09-04-2017      2      1            1   \n",
       "7    8    2017     Indore  10-04-2017      3      6            3   \n",
       "9   10    2017     Mumbai  12-04-2017      7      1            1   \n",
       "10  11    2017    Kolkata  13-04-2017      6      2            2   \n",
       "\n",
       "   toss_decision  result  dl_applied  winner  win_by_runs  win_by_wickets  \\\n",
       "0          field  normal           0       7           35               0   \n",
       "6          field  normal           0       1            0               4   \n",
       "7            bat  normal           0       6            0               8   \n",
       "9          field  normal           0       1            0               4   \n",
       "10         field  normal           0       2            0               8   \n",
       "\n",
       "   player_of_match                                      venue       umpire1  \\\n",
       "0     Yuvraj Singh  Rajiv Gandhi International Stadium, Uppal   AY Dandekar   \n",
       "6           N Rana                           Wankhede Stadium   Nitin Menon   \n",
       "7         AR Patel                     Holkar Cricket Stadium  AK Chaudhary   \n",
       "9        JJ Bumrah                           Wankhede Stadium   Nitin Menon   \n",
       "10       SP Narine                               Eden Gardens    A Deshmukh   \n",
       "\n",
       "          umpire2  umpire3  \n",
       "0        NJ Llong      NaN  \n",
       "6       CK Nandan      NaN  \n",
       "7   C Shamshuddin      NaN  \n",
       "9       CK Nandan      NaN  \n",
       "10       NJ Llong      NaN  "
      ]
     },
     "execution_count": 74,
     "metadata": {},
     "output_type": "execute_result"
    }
   ],
   "source": [
    "encode = {'team1': {'MI':1,'KKR':2,'RCB':3,'CSK':4,'RR':5,'KXIP':6,'SRH':7,'DC':8},\n",
    "          'team2': {'MI':1,'KKR':2,'RCB':3,'CSK':4,'RR':5,'KXIP':6,'SRH':7,'DC':8},\n",
    "          'toss_winner': {'MI':1,'KKR':2,'RCB':3,'CSK':4,'RR':5,'KXIP':6,'SRH':7,'DC':8},\n",
    "         'winner': {'MI':1,'KKR':2,'RCB':3,'CSK':4,'RR':5,'KXIP':6,'SRH':7,'DC':8,'Draw':9}}\n",
    "matches.replace(encode, inplace=True)\n",
    "matches.head()"
   ]
  },
  {
   "cell_type": "code",
   "execution_count": 75,
   "id": "82cc43ae",
   "metadata": {},
   "outputs": [
    {
     "data": {
      "text/plain": [
       "array([7, 1, 6, 2, 4, 3, 5, 9], dtype=int64)"
      ]
     },
     "execution_count": 75,
     "metadata": {},
     "output_type": "execute_result"
    }
   ],
   "source": [
    "matches[\"winner\"].unique()"
   ]
  },
  {
   "cell_type": "code",
   "execution_count": 76,
   "id": "ccf1b59d",
   "metadata": {},
   "outputs": [
    {
     "data": {
      "text/html": [
       "<div>\n",
       "<style scoped>\n",
       "    .dataframe tbody tr th:only-of-type {\n",
       "        vertical-align: middle;\n",
       "    }\n",
       "\n",
       "    .dataframe tbody tr th {\n",
       "        vertical-align: top;\n",
       "    }\n",
       "\n",
       "    .dataframe thead th {\n",
       "        text-align: right;\n",
       "    }\n",
       "</style>\n",
       "<table border=\"1\" class=\"dataframe\">\n",
       "  <thead>\n",
       "    <tr style=\"text-align: right;\">\n",
       "      <th></th>\n",
       "      <th>id</th>\n",
       "      <th>season</th>\n",
       "      <th>city</th>\n",
       "      <th>date</th>\n",
       "      <th>team1</th>\n",
       "      <th>team2</th>\n",
       "      <th>toss_winner</th>\n",
       "      <th>toss_decision</th>\n",
       "      <th>result</th>\n",
       "      <th>dl_applied</th>\n",
       "      <th>winner</th>\n",
       "      <th>win_by_runs</th>\n",
       "      <th>win_by_wickets</th>\n",
       "      <th>player_of_match</th>\n",
       "      <th>venue</th>\n",
       "      <th>umpire1</th>\n",
       "      <th>umpire2</th>\n",
       "      <th>umpire3</th>\n",
       "    </tr>\n",
       "  </thead>\n",
       "  <tbody>\n",
       "    <tr>\n",
       "      <th>461</th>\n",
       "      <td>462</td>\n",
       "      <td>2014</td>\n",
       "      <td>NaN</td>\n",
       "      <td>19-04-2014</td>\n",
       "      <td>1</td>\n",
       "      <td>3</td>\n",
       "      <td>3</td>\n",
       "      <td>field</td>\n",
       "      <td>normal</td>\n",
       "      <td>0</td>\n",
       "      <td>3</td>\n",
       "      <td>0</td>\n",
       "      <td>7</td>\n",
       "      <td>PA Patel</td>\n",
       "      <td>Dubai International Cricket Stadium</td>\n",
       "      <td>Aleem Dar</td>\n",
       "      <td>AK Chaudhary</td>\n",
       "      <td>NaN</td>\n",
       "    </tr>\n",
       "    <tr>\n",
       "      <th>466</th>\n",
       "      <td>467</td>\n",
       "      <td>2014</td>\n",
       "      <td>NaN</td>\n",
       "      <td>23-04-2014</td>\n",
       "      <td>4</td>\n",
       "      <td>5</td>\n",
       "      <td>5</td>\n",
       "      <td>field</td>\n",
       "      <td>normal</td>\n",
       "      <td>0</td>\n",
       "      <td>4</td>\n",
       "      <td>7</td>\n",
       "      <td>0</td>\n",
       "      <td>RA Jadeja</td>\n",
       "      <td>Dubai International Cricket Stadium</td>\n",
       "      <td>HDPK Dharmasena</td>\n",
       "      <td>RK Illingworth</td>\n",
       "      <td>NaN</td>\n",
       "    </tr>\n",
       "    <tr>\n",
       "      <th>469</th>\n",
       "      <td>470</td>\n",
       "      <td>2014</td>\n",
       "      <td>NaN</td>\n",
       "      <td>25-04-2014</td>\n",
       "      <td>1</td>\n",
       "      <td>4</td>\n",
       "      <td>1</td>\n",
       "      <td>bat</td>\n",
       "      <td>normal</td>\n",
       "      <td>0</td>\n",
       "      <td>4</td>\n",
       "      <td>0</td>\n",
       "      <td>7</td>\n",
       "      <td>MM Sharma</td>\n",
       "      <td>Dubai International Cricket Stadium</td>\n",
       "      <td>BF Bowden</td>\n",
       "      <td>M Erasmus</td>\n",
       "      <td>NaN</td>\n",
       "    </tr>\n",
       "    <tr>\n",
       "      <th>474</th>\n",
       "      <td>475</td>\n",
       "      <td>2014</td>\n",
       "      <td>NaN</td>\n",
       "      <td>28-04-2014</td>\n",
       "      <td>3</td>\n",
       "      <td>6</td>\n",
       "      <td>6</td>\n",
       "      <td>field</td>\n",
       "      <td>normal</td>\n",
       "      <td>0</td>\n",
       "      <td>6</td>\n",
       "      <td>0</td>\n",
       "      <td>5</td>\n",
       "      <td>Sandeep Sharma</td>\n",
       "      <td>Dubai International Cricket Stadium</td>\n",
       "      <td>BF Bowden</td>\n",
       "      <td>S Ravi</td>\n",
       "      <td>NaN</td>\n",
       "    </tr>\n",
       "    <tr>\n",
       "      <th>476</th>\n",
       "      <td>477</td>\n",
       "      <td>2014</td>\n",
       "      <td>NaN</td>\n",
       "      <td>30-04-2014</td>\n",
       "      <td>7</td>\n",
       "      <td>1</td>\n",
       "      <td>1</td>\n",
       "      <td>field</td>\n",
       "      <td>normal</td>\n",
       "      <td>0</td>\n",
       "      <td>7</td>\n",
       "      <td>15</td>\n",
       "      <td>0</td>\n",
       "      <td>B Kumar</td>\n",
       "      <td>Dubai International Cricket Stadium</td>\n",
       "      <td>HDPK Dharmasena</td>\n",
       "      <td>M Erasmus</td>\n",
       "      <td>NaN</td>\n",
       "    </tr>\n",
       "  </tbody>\n",
       "</table>\n",
       "</div>"
      ],
      "text/plain": [
       "      id  season city        date  team1  team2  toss_winner toss_decision  \\\n",
       "461  462    2014  NaN  19-04-2014      1      3            3         field   \n",
       "466  467    2014  NaN  23-04-2014      4      5            5         field   \n",
       "469  470    2014  NaN  25-04-2014      1      4            1           bat   \n",
       "474  475    2014  NaN  28-04-2014      3      6            6         field   \n",
       "476  477    2014  NaN  30-04-2014      7      1            1         field   \n",
       "\n",
       "     result  dl_applied  winner  win_by_runs  win_by_wickets player_of_match  \\\n",
       "461  normal           0       3            0               7        PA Patel   \n",
       "466  normal           0       4            7               0       RA Jadeja   \n",
       "469  normal           0       4            0               7       MM Sharma   \n",
       "474  normal           0       6            0               5  Sandeep Sharma   \n",
       "476  normal           0       7           15               0         B Kumar   \n",
       "\n",
       "                                   venue          umpire1         umpire2  \\\n",
       "461  Dubai International Cricket Stadium        Aleem Dar    AK Chaudhary   \n",
       "466  Dubai International Cricket Stadium  HDPK Dharmasena  RK Illingworth   \n",
       "469  Dubai International Cricket Stadium        BF Bowden       M Erasmus   \n",
       "474  Dubai International Cricket Stadium        BF Bowden          S Ravi   \n",
       "476  Dubai International Cricket Stadium  HDPK Dharmasena       M Erasmus   \n",
       "\n",
       "     umpire3  \n",
       "461      NaN  \n",
       "466      NaN  \n",
       "469      NaN  \n",
       "474      NaN  \n",
       "476      NaN  "
      ]
     },
     "execution_count": 76,
     "metadata": {},
     "output_type": "execute_result"
    }
   ],
   "source": [
    "#Find cities which are null\n",
    "matches[pd.isnull(matches['city'])]"
   ]
  },
  {
   "cell_type": "code",
   "execution_count": 77,
   "id": "70d4cd61",
   "metadata": {},
   "outputs": [
    {
     "name": "stdout",
     "output_type": "stream",
     "text": [
      "<class 'pandas.core.frame.DataFrame'>\n",
      "Int64Index: 331 entries, 0 to 635\n",
      "Data columns (total 18 columns):\n",
      " #   Column           Non-Null Count  Dtype  \n",
      "---  ------           --------------  -----  \n",
      " 0   id               331 non-null    int64  \n",
      " 1   season           331 non-null    int64  \n",
      " 2   city             331 non-null    object \n",
      " 3   date             331 non-null    object \n",
      " 4   team1            331 non-null    int64  \n",
      " 5   team2            331 non-null    int64  \n",
      " 6   toss_winner      331 non-null    int64  \n",
      " 7   toss_decision    331 non-null    object \n",
      " 8   result           331 non-null    object \n",
      " 9   dl_applied       331 non-null    int64  \n",
      " 10  winner           331 non-null    int64  \n",
      " 11  win_by_runs      331 non-null    int64  \n",
      " 12  win_by_wickets   331 non-null    int64  \n",
      " 13  player_of_match  330 non-null    object \n",
      " 14  venue            331 non-null    object \n",
      " 15  umpire1          331 non-null    object \n",
      " 16  umpire2          331 non-null    object \n",
      " 17  umpire3          0 non-null      float64\n",
      "dtypes: float64(1), int64(9), object(8)\n",
      "memory usage: 49.1+ KB\n"
     ]
    }
   ],
   "source": [
    "#remove any null values, winner has hence fill the null value in winner as draw\n",
    "#City is also null, this is mainly for Dubai stadium. Hence update the City as Dubai\n",
    "#Make sure to impute the data(cleansing and finding missing data), there is also other process \n",
    "#to verify expected value based on other resultants, for now by stadium, city is easily manually updated\n",
    "matches['city'].fillna('Dubai',inplace=True)\n",
    "matches.describe()\n",
    "matches.info()"
   ]
  },
  {
   "cell_type": "code",
   "execution_count": 78,
   "id": "8230327e",
   "metadata": {},
   "outputs": [
    {
     "name": "stdout",
     "output_type": "stream",
     "text": [
      "66\n",
      "66\n"
     ]
    }
   ],
   "source": [
    "#team_match_total=matches.groupby([\"team1\"]).size()+matches.groupby([\"team2\"]).size()\n",
    "#print(team_match_total.get_value(1))\n",
    "xx=matches.groupby([\"toss_winner\"]).size()\n",
    "print(xx._get_value(1))\n",
    "yy=matches.groupby([\"winner\"]).size()\n",
    "print(yy._get_value(1))"
   ]
  },
  {
   "cell_type": "code",
   "execution_count": 79,
   "id": "a783e81a",
   "metadata": {},
   "outputs": [
    {
     "name": "stdout",
     "output_type": "stream",
     "text": [
      "1\n",
      "MI\n"
     ]
    }
   ],
   "source": [
    "#we maintain a dictionary for future reference mapping teams\n",
    "dicVal = encode['winner']\n",
    "print(dicVal['MI']) #key value\n",
    "print(list(dicVal.keys())[list(dicVal.values()).index(1)]) #find key by value search "
   ]
  },
  {
   "cell_type": "code",
   "execution_count": 80,
   "id": "10fda11d",
   "metadata": {},
   "outputs": [
    {
     "data": {
      "text/plain": [
       "array([7, 1, 6, 2, 4, 3, 5, 9], dtype=int64)"
      ]
     },
     "execution_count": 80,
     "metadata": {},
     "output_type": "execute_result"
    }
   ],
   "source": [
    "matches[\"winner\"].unique()"
   ]
  },
  {
   "cell_type": "code",
   "execution_count": 81,
   "id": "d610cd9a",
   "metadata": {},
   "outputs": [
    {
     "data": {
      "text/html": [
       "<div>\n",
       "<style scoped>\n",
       "    .dataframe tbody tr th:only-of-type {\n",
       "        vertical-align: middle;\n",
       "    }\n",
       "\n",
       "    .dataframe tbody tr th {\n",
       "        vertical-align: top;\n",
       "    }\n",
       "\n",
       "    .dataframe thead th {\n",
       "        text-align: right;\n",
       "    }\n",
       "</style>\n",
       "<table border=\"1\" class=\"dataframe\">\n",
       "  <thead>\n",
       "    <tr style=\"text-align: right;\">\n",
       "      <th></th>\n",
       "      <th>team1</th>\n",
       "      <th>team2</th>\n",
       "      <th>city</th>\n",
       "      <th>toss_decision</th>\n",
       "      <th>toss_winner</th>\n",
       "      <th>venue</th>\n",
       "      <th>winner</th>\n",
       "    </tr>\n",
       "  </thead>\n",
       "  <tbody>\n",
       "    <tr>\n",
       "      <th>0</th>\n",
       "      <td>7</td>\n",
       "      <td>3</td>\n",
       "      <td>Hyderabad</td>\n",
       "      <td>field</td>\n",
       "      <td>3</td>\n",
       "      <td>Rajiv Gandhi International Stadium, Uppal</td>\n",
       "      <td>7</td>\n",
       "    </tr>\n",
       "    <tr>\n",
       "      <th>6</th>\n",
       "      <td>2</td>\n",
       "      <td>1</td>\n",
       "      <td>Mumbai</td>\n",
       "      <td>field</td>\n",
       "      <td>1</td>\n",
       "      <td>Wankhede Stadium</td>\n",
       "      <td>1</td>\n",
       "    </tr>\n",
       "  </tbody>\n",
       "</table>\n",
       "</div>"
      ],
      "text/plain": [
       "   team1  team2       city toss_decision  toss_winner  \\\n",
       "0      7      3  Hyderabad         field            3   \n",
       "6      2      1     Mumbai         field            1   \n",
       "\n",
       "                                       venue  winner  \n",
       "0  Rajiv Gandhi International Stadium, Uppal       7  \n",
       "6                           Wankhede Stadium       1  "
      ]
     },
     "execution_count": 81,
     "metadata": {},
     "output_type": "execute_result"
    }
   ],
   "source": [
    "matches = matches[['team1','team2','city','toss_decision','toss_winner','venue','winner']]\n",
    "matches.head(2)"
   ]
  },
  {
   "cell_type": "code",
   "execution_count": 82,
   "id": "c9b5fe18",
   "metadata": {},
   "outputs": [
    {
     "data": {
      "text/html": [
       "<div>\n",
       "<style scoped>\n",
       "    .dataframe tbody tr th:only-of-type {\n",
       "        vertical-align: middle;\n",
       "    }\n",
       "\n",
       "    .dataframe tbody tr th {\n",
       "        vertical-align: top;\n",
       "    }\n",
       "\n",
       "    .dataframe thead th {\n",
       "        text-align: right;\n",
       "    }\n",
       "</style>\n",
       "<table border=\"1\" class=\"dataframe\">\n",
       "  <thead>\n",
       "    <tr style=\"text-align: right;\">\n",
       "      <th></th>\n",
       "      <th>team1</th>\n",
       "      <th>team2</th>\n",
       "      <th>toss_winner</th>\n",
       "      <th>winner</th>\n",
       "    </tr>\n",
       "  </thead>\n",
       "  <tbody>\n",
       "    <tr>\n",
       "      <th>count</th>\n",
       "      <td>331.000000</td>\n",
       "      <td>331.000000</td>\n",
       "      <td>331.000000</td>\n",
       "      <td>331.000000</td>\n",
       "    </tr>\n",
       "    <tr>\n",
       "      <th>mean</th>\n",
       "      <td>3.888218</td>\n",
       "      <td>3.540785</td>\n",
       "      <td>3.598187</td>\n",
       "      <td>3.625378</td>\n",
       "    </tr>\n",
       "    <tr>\n",
       "      <th>std</th>\n",
       "      <td>1.968590</td>\n",
       "      <td>1.871800</td>\n",
       "      <td>1.941227</td>\n",
       "      <td>1.973727</td>\n",
       "    </tr>\n",
       "    <tr>\n",
       "      <th>min</th>\n",
       "      <td>1.000000</td>\n",
       "      <td>1.000000</td>\n",
       "      <td>1.000000</td>\n",
       "      <td>1.000000</td>\n",
       "    </tr>\n",
       "    <tr>\n",
       "      <th>25%</th>\n",
       "      <td>2.000000</td>\n",
       "      <td>2.000000</td>\n",
       "      <td>2.000000</td>\n",
       "      <td>2.000000</td>\n",
       "    </tr>\n",
       "    <tr>\n",
       "      <th>50%</th>\n",
       "      <td>4.000000</td>\n",
       "      <td>3.000000</td>\n",
       "      <td>4.000000</td>\n",
       "      <td>4.000000</td>\n",
       "    </tr>\n",
       "    <tr>\n",
       "      <th>75%</th>\n",
       "      <td>6.000000</td>\n",
       "      <td>5.000000</td>\n",
       "      <td>5.000000</td>\n",
       "      <td>5.000000</td>\n",
       "    </tr>\n",
       "    <tr>\n",
       "      <th>max</th>\n",
       "      <td>7.000000</td>\n",
       "      <td>7.000000</td>\n",
       "      <td>7.000000</td>\n",
       "      <td>9.000000</td>\n",
       "    </tr>\n",
       "  </tbody>\n",
       "</table>\n",
       "</div>"
      ],
      "text/plain": [
       "            team1       team2  toss_winner      winner\n",
       "count  331.000000  331.000000   331.000000  331.000000\n",
       "mean     3.888218    3.540785     3.598187    3.625378\n",
       "std      1.968590    1.871800     1.941227    1.973727\n",
       "min      1.000000    1.000000     1.000000    1.000000\n",
       "25%      2.000000    2.000000     2.000000    2.000000\n",
       "50%      4.000000    3.000000     4.000000    4.000000\n",
       "75%      6.000000    5.000000     5.000000    5.000000\n",
       "max      7.000000    7.000000     7.000000    9.000000"
      ]
     },
     "execution_count": 82,
     "metadata": {},
     "output_type": "execute_result"
    }
   ],
   "source": [
    "df = pd.DataFrame(matches)\n",
    "df.describe()"
   ]
  },
  {
   "cell_type": "code",
   "execution_count": 83,
   "id": "9441c91a",
   "metadata": {},
   "outputs": [
    {
     "name": "stdout",
     "output_type": "stream",
     "text": [
      "[ 0  1  2  1  3  4  3  0  2  3  5  0  1  4  4  0  5  1  3  4  4  4  5  1\n",
      "  6  7  5  4  7  4  3  6  5  6  4  1  3  4  7  5  1  5  1  6  3  3  1  7\n",
      "  7  3  6  1  1  8  8  9 10  8 10  8  9 10 10 11 12 10  9 13 10 11 11 14\n",
      "  9 11 11 10 10  9 11 10 10 13  1  3  4  3  4 15  1  7  1  4  5  1  5 15\n",
      "  1  7  5  7  3  7  6  5  4  6  7  6  4  3 16  3  1  1  7  4  5  6  7  3\n",
      "  5  1  3  6  3  1  7  4  3  6  5  6  4 16  1  4  3  1  1  7  7  7  6  6\n",
      "  4  1  7  3  3  4  5  5  7  1  6  5  7  3  7  4  5  1  1  6  3  4  3  1\n",
      " 16  6  4  7  4  7  0  6  5  4  7  3  6  5  6  0  3  4  7  3  7  3  6  1\n",
      "  7  6  1  0  7  3  4  1  4  1  0  5  5 17  6  1  1  5  0 16  4  0 18 18\n",
      "  3  3 19 19 19 20 21 21 20 21 20 19 19 21 20 19 20 17  1  4 15  1 22 15\n",
      "  4  1 22  4  0 17  0 22 17  0 15  0  3  5  3 17  5  4  3  1  3  1  1  4\n",
      "  3 23  7  3  1  4 15  3 24  1 23 15  4 15 24  4 15  1  7  5  4  7  1  4\n",
      "  0  5  7  3  4  1  7  3  1  7  0  5  1  0  5  1  0  1 23 17  3  4  3  0\n",
      "  0  5  1  0  5  1  0  4  3 24  5  4 24  5  3  4  3 18  4]\n",
      "Index(['Hyderabad', 'Mumbai', 'Indore', 'Kolkata', 'Bangalore', 'Chandigarh',\n",
      "       'Jaipur', 'Chennai', 'Cape Town', 'Port Elizabeth', 'Durban',\n",
      "       'Centurion', 'East London', 'Johannesburg', 'Kimberley', 'Ahmedabad',\n",
      "       'Dharamsala', 'Ranchi', 'Delhi', 'Abu Dhabi', 'Dubai', 'Sharjah',\n",
      "       'Cuttack', 'Pune', 'Visakhapatnam'],\n",
      "      dtype='object')\n",
      "24\n"
     ]
    }
   ],
   "source": [
    "cat_list=df[\"city\"]\n",
    "encoded_data, mapping_index = pd.Series(cat_list).factorize()\n",
    "print(encoded_data)\n",
    "print(mapping_index)\n",
    "print(mapping_index.get_loc(\"Visakhapatnam\"))"
   ]
  },
  {
   "cell_type": "code",
   "execution_count": 84,
   "id": "291e54ff",
   "metadata": {},
   "outputs": [
    {
     "name": "stdout",
     "output_type": "stream",
     "text": [
      "[ 0  1  2  1  3  4  3  0  2  3  5  0  1  4  4  0  5  1  3  4  4  4  6  1\n",
      "  7  8  6  4  8  4  3  7  6  7  4  9  3  4  8  6  1  6  1  7  3  3  1  8\n",
      "  8  3  7  1  9 10 10 11 12 10 12 10 11 12 12 13 14 12 11 15 12 13 13 16\n",
      " 11 13 13 12 12 11 13 12 12 15 17  3  4  3  4 18 17  8 17  4  6 17  6 18\n",
      " 17  8  6  8  3  8  7  6  4  7  8  7  4  3 19  3  9  9  8  4  6  7  8  3\n",
      "  6  1  3  7  3  1  8  4  3  7  6  7  4 19  1  4  3  1  1  8  8  8  7  7\n",
      "  4  1  8  3  3  4  6  6  8  1  7  6  8  3  8  4  6  1  1  7  3  4  3  1\n",
      " 19  7  4  8  4  8  0  7  6  4  8  3  7  6  7  0  3  4  8  3  8  3  7  1\n",
      "  8  7  1  0  8  3  4  1  4  1  0  6  6 20  7  1  1  6  0 19  4  0 21 21\n",
      "  3  3 22 22 22 23 24 24 23 24 23 22 22 24 23 22 23 20  1  4 18  1 25 18\n",
      "  4  1 25  4  0 20  0 25 20  0 18  0  3  6  3 20  6  4  3  1  3 17  1  4\n",
      "  3 26  8  3  1  4 18  3 27  1 26 18  4 18 27  4 18  1  8  6  4  8  1  4\n",
      "  0  6  8  3  4 17  8  3  1  8  0  6  1  0  6 17  0  1 26 20  3  4  3  0\n",
      "  0  5  1  0  5  1  0  4  3 27  5  4 27  5  3  4  3 21  4]\n",
      "Index(['Rajiv Gandhi International Stadium, Uppal', 'Wankhede Stadium',\n",
      "       'Holkar Cricket Stadium', 'Eden Gardens', 'M Chinnaswamy Stadium',\n",
      "       'Punjab Cricket Association IS Bindra Stadium, Mohali',\n",
      "       'Punjab Cricket Association Stadium, Mohali', 'Sawai Mansingh Stadium',\n",
      "       'MA Chidambaram Stadium, Chepauk', 'Dr DY Patil Sports Academy',\n",
      "       'Newlands', 'St George's Park', 'Kingsmead', 'SuperSport Park',\n",
      "       'Buffalo Park', 'New Wanderers Stadium', 'De Beers Diamond Oval',\n",
      "       'Brabourne Stadium', 'Sardar Patel Stadium, Motera',\n",
      "       'Himachal Pradesh Cricket Association Stadium',\n",
      "       'JSCA International Stadium Complex', 'Feroz Shah Kotla',\n",
      "       'Sheikh Zayed Stadium', 'Dubai International Cricket Stadium',\n",
      "       'Sharjah Cricket Stadium', 'Barabati Stadium',\n",
      "       'Maharashtra Cricket Association Stadium',\n",
      "       'Dr. Y.S. Rajasekhara Reddy ACA-VDCA Cricket Stadium'],\n",
      "      dtype='object')\n",
      "27\n"
     ]
    }
   ],
   "source": [
    "cat_list1=df[\"venue\"]\n",
    "encoded_data1, mapping_index1 = pd.Series(cat_list1).factorize()\n",
    "print(encoded_data1)\n",
    "print(mapping_index1)\n",
    "print(mapping_index1.get_loc(\"Dr. Y.S. Rajasekhara Reddy ACA-VDCA Cricket Stadium\"))"
   ]
  },
  {
   "cell_type": "code",
   "execution_count": 85,
   "id": "c0a63894",
   "metadata": {},
   "outputs": [
    {
     "name": "stdout",
     "output_type": "stream",
     "text": [
      "Index(['field', 'bat'], dtype='object')\n",
      "0\n"
     ]
    }
   ],
   "source": [
    "cat_list2=df[\"toss_decision\"]\n",
    "encoded_data2, mapping_index2 = pd.Series(cat_list2).factorize()\n",
    "#print(encoded_data2)\n",
    "print(mapping_index2)\n",
    "print(mapping_index2.get_loc(\"field\"))"
   ]
  },
  {
   "cell_type": "code",
   "execution_count": 86,
   "id": "8cda35f1",
   "metadata": {},
   "outputs": [
    {
     "name": "stdout",
     "output_type": "stream",
     "text": [
      "No of toss winners by each team\n",
      "MI -> 66\n",
      "KKR -> 51\n",
      "CSK -> 48\n",
      "RR -> 48\n",
      "RCB -> 47\n",
      "KXIP -> 47\n",
      "SRH -> 24\n",
      "No of match winners by each team\n",
      "MI -> 66\n",
      "CSK -> 57\n",
      "KKR -> 50\n",
      "KXIP -> 44\n",
      "RCB -> 44\n",
      "RR -> 41\n",
      "SRH -> 28\n",
      "Draw -> 1\n"
     ]
    }
   ],
   "source": [
    "#Find some stats on the match winners and toss winners\n",
    "temp1=df['toss_winner'].value_counts(sort=True)\n",
    "temp2=df['winner'].value_counts(sort=True)\n",
    "#Mumbai won most toss and also most matches\n",
    "print('No of toss winners by each team')\n",
    "for idx, val in temp1.iteritems():\n",
    "   print('{} -> {}'.format(list(dicVal.keys())[list(dicVal.values()).index(idx)],val))\n",
    "print('No of match winners by each team')\n",
    "for idx, val in temp2.iteritems():\n",
    "   print('{} -> {}'.format(list(dicVal.keys())[list(dicVal.values()).index(idx)],val))"
   ]
  },
  {
   "cell_type": "code",
   "execution_count": 87,
   "id": "c4fe8ff6",
   "metadata": {},
   "outputs": [
    {
     "data": {
      "text/plain": [
       "Text(0.5, 1.0, 'Match winners')"
      ]
     },
     "execution_count": 87,
     "metadata": {},
     "output_type": "execute_result"
    },
    {
     "data": {
      "image/png": "[encoded data removed]",
      "text/plain": [
       "<Figure size 576x288 with 2 Axes>"
      ]
     },
     "metadata": {
      "needs_background": "light"
     },
     "output_type": "display_data"
    }
   ],
   "source": [
    "import matplotlib.pyplot as plt\n",
    "fig = plt.figure(figsize=(8,4))\n",
    "ax1 = fig.add_subplot(121)\n",
    "ax1.set_xlabel('toss_winner')\n",
    "ax1.set_ylabel('Count of toss winners')\n",
    "ax1.set_title(\"toss winners\")\n",
    "temp1.plot(kind='bar')\n",
    "\n",
    "ax2 = fig.add_subplot(122)\n",
    "temp2.plot(kind = 'bar')\n",
    "ax2.set_xlabel('winner')\n",
    "ax2.set_ylabel('Count of match winners')\n",
    "ax2.set_title(\"Match winners\")"
   ]
  },
  {
   "cell_type": "code",
   "execution_count": 88,
   "id": "38f4c0c3",
   "metadata": {},
   "outputs": [
    {
     "data": {
      "text/plain": [
       "<AxesSubplot:>"
      ]
     },
     "execution_count": 88,
     "metadata": {},
     "output_type": "execute_result"
    },
    {
     "data": {
      "image/png": "[encoded data removed]",
      "text/plain": [
       "<Figure size 432x288 with 1 Axes>"
      ]
     },
     "metadata": {
      "needs_background": "light"
     },
     "output_type": "display_data"
    }
   ],
   "source": [
    "df['toss_winner'].hist(bins=50)"
   ]
  },
  {
   "cell_type": "code",
   "execution_count": 89,
   "id": "74baa537",
   "metadata": {},
   "outputs": [
    {
     "data": {
      "text/plain": [
       "<AxesSubplot:>"
      ]
     },
     "execution_count": 89,
     "metadata": {},
     "output_type": "execute_result"
    },
    {
     "data": {
      "image/png": "[encoded data removed]",
      "text/plain": [
       "<Figure size 432x288 with 1 Axes>"
      ]
     },
     "metadata": {
      "needs_background": "light"
     },
     "output_type": "display_data"
    }
   ],
   "source": [
    "#shows that Mumbai won most matches followed by Chennai\n",
    "df['winner'].hist(bins=50)\n"
   ]
  },
  {
   "cell_type": "code",
   "execution_count": 90,
   "id": "dc7ffdf9",
   "metadata": {},
   "outputs": [
    {
     "data": {
      "text/plain": [
       "<AxesSubplot:>"
      ]
     },
     "execution_count": 90,
     "metadata": {},
     "output_type": "execute_result"
    },
    {
     "data": {
      "image/png": "[encoded data removed]",
      "text/plain": [
       "<Figure size 432x288 with 1 Axes>"
      ]
     },
     "metadata": {
      "needs_background": "light"
     },
     "output_type": "display_data"
    }
   ],
   "source": [
    "#shows that Mumbai won most matches followed by Chennai\n",
    "df['team1'].hist(bins=50)\n"
   ]
  },
  {
   "cell_type": "code",
   "execution_count": 91,
   "id": "31abdeb1",
   "metadata": {},
   "outputs": [
    {
     "data": {
      "text/plain": [
       "Text(0.5, 1.0, 'Match winners')"
      ]
     },
     "execution_count": 91,
     "metadata": {},
     "output_type": "execute_result"
    },
    {
     "data": {
      "image/png": "[encoded data removed]",
      "text/plain": [
       "<Figure size 576x288 with 2 Axes>"
      ]
     },
     "metadata": {
      "needs_background": "light"
     },
     "output_type": "display_data"
    }
   ],
   "source": [
    "import matplotlib.pyplot as plt\n",
    "fig = plt.figure(figsize=(8,4))\n",
    "ax1 = fig.add_subplot(121)\n",
    "ax1.set_xlabel('toss_winner')\n",
    "ax1.set_ylabel('Count of toss winners')\n",
    "ax1.set_title(\"toss winners\")\n",
    "temp1.plot(kind='bar')\n",
    "ax2 = fig.add_subplot(122)\n",
    "temp2.plot(kind = 'bar')\n",
    "ax2.set_xlabel('winner')\n",
    "ax2.set_ylabel('Count of match winners')\n",
    "ax2.set_title(\"Match winners\")"
   ]
  },
  {
   "cell_type": "code",
   "execution_count": 92,
   "id": "ff756f3e",
   "metadata": {},
   "outputs": [
    {
     "data": {
      "text/plain": [
       "team1            0\n",
       "team2            0\n",
       "city             0\n",
       "toss_decision    0\n",
       "toss_winner      0\n",
       "venue            0\n",
       "winner           0\n",
       "dtype: int64"
      ]
     },
     "execution_count": 92,
     "metadata": {},
     "output_type": "execute_result"
    }
   ],
   "source": [
    "df.apply(lambda x: sum(x.isnull()),axis=0)\n"
   ]
  },
  {
   "cell_type": "code",
   "execution_count": 93,
   "id": "dfbf4589",
   "metadata": {},
   "outputs": [],
   "source": [
    "\n",
    "matches['winner'].fillna('Draw', inplace=True)"
   ]
  },
  {
   "cell_type": "code",
   "execution_count": 94,
   "id": "ad874eab",
   "metadata": {},
   "outputs": [
    {
     "data": {
      "text/html": [
       "<div>\n",
       "<style scoped>\n",
       "    .dataframe tbody tr th:only-of-type {\n",
       "        vertical-align: middle;\n",
       "    }\n",
       "\n",
       "    .dataframe tbody tr th {\n",
       "        vertical-align: top;\n",
       "    }\n",
       "\n",
       "    .dataframe thead th {\n",
       "        text-align: right;\n",
       "    }\n",
       "</style>\n",
       "<table border=\"1\" class=\"dataframe\">\n",
       "  <thead>\n",
       "    <tr style=\"text-align: right;\">\n",
       "      <th></th>\n",
       "      <th>team1</th>\n",
       "      <th>team2</th>\n",
       "      <th>city</th>\n",
       "      <th>toss_decision</th>\n",
       "      <th>toss_winner</th>\n",
       "      <th>venue</th>\n",
       "      <th>winner</th>\n",
       "    </tr>\n",
       "  </thead>\n",
       "  <tbody>\n",
       "    <tr>\n",
       "      <th>0</th>\n",
       "      <td>6</td>\n",
       "      <td>2</td>\n",
       "      <td>13</td>\n",
       "      <td>1</td>\n",
       "      <td>3</td>\n",
       "      <td>20</td>\n",
       "      <td>7</td>\n",
       "    </tr>\n",
       "    <tr>\n",
       "      <th>6</th>\n",
       "      <td>1</td>\n",
       "      <td>0</td>\n",
       "      <td>19</td>\n",
       "      <td>1</td>\n",
       "      <td>1</td>\n",
       "      <td>27</td>\n",
       "      <td>1</td>\n",
       "    </tr>\n",
       "    <tr>\n",
       "      <th>7</th>\n",
       "      <td>2</td>\n",
       "      <td>5</td>\n",
       "      <td>14</td>\n",
       "      <td>0</td>\n",
       "      <td>3</td>\n",
       "      <td>10</td>\n",
       "      <td>6</td>\n",
       "    </tr>\n",
       "    <tr>\n",
       "      <th>9</th>\n",
       "      <td>6</td>\n",
       "      <td>0</td>\n",
       "      <td>19</td>\n",
       "      <td>1</td>\n",
       "      <td>1</td>\n",
       "      <td>27</td>\n",
       "      <td>1</td>\n",
       "    </tr>\n",
       "    <tr>\n",
       "      <th>10</th>\n",
       "      <td>5</td>\n",
       "      <td>1</td>\n",
       "      <td>18</td>\n",
       "      <td>1</td>\n",
       "      <td>2</td>\n",
       "      <td>7</td>\n",
       "      <td>2</td>\n",
       "    </tr>\n",
       "    <tr>\n",
       "      <th>...</th>\n",
       "      <td>...</td>\n",
       "      <td>...</td>\n",
       "      <td>...</td>\n",
       "      <td>...</td>\n",
       "      <td>...</td>\n",
       "      <td>...</td>\n",
       "      <td>...</td>\n",
       "    </tr>\n",
       "    <tr>\n",
       "      <th>623</th>\n",
       "      <td>1</td>\n",
       "      <td>2</td>\n",
       "      <td>18</td>\n",
       "      <td>1</td>\n",
       "      <td>3</td>\n",
       "      <td>7</td>\n",
       "      <td>3</td>\n",
       "    </tr>\n",
       "    <tr>\n",
       "      <th>625</th>\n",
       "      <td>2</td>\n",
       "      <td>5</td>\n",
       "      <td>2</td>\n",
       "      <td>1</td>\n",
       "      <td>6</td>\n",
       "      <td>13</td>\n",
       "      <td>3</td>\n",
       "    </tr>\n",
       "    <tr>\n",
       "      <th>630</th>\n",
       "      <td>1</td>\n",
       "      <td>6</td>\n",
       "      <td>18</td>\n",
       "      <td>1</td>\n",
       "      <td>7</td>\n",
       "      <td>7</td>\n",
       "      <td>2</td>\n",
       "    </tr>\n",
       "    <tr>\n",
       "      <th>633</th>\n",
       "      <td>6</td>\n",
       "      <td>1</td>\n",
       "      <td>8</td>\n",
       "      <td>1</td>\n",
       "      <td>2</td>\n",
       "      <td>8</td>\n",
       "      <td>7</td>\n",
       "    </tr>\n",
       "    <tr>\n",
       "      <th>635</th>\n",
       "      <td>6</td>\n",
       "      <td>2</td>\n",
       "      <td>2</td>\n",
       "      <td>0</td>\n",
       "      <td>7</td>\n",
       "      <td>13</td>\n",
       "      <td>7</td>\n",
       "    </tr>\n",
       "  </tbody>\n",
       "</table>\n",
       "<p>331 rows × 7 columns</p>\n",
       "</div>"
      ],
      "text/plain": [
       "     team1  team2  city  toss_decision  toss_winner  venue  winner\n",
       "0        6      2    13              1            3     20       7\n",
       "6        1      0    19              1            1     27       1\n",
       "7        2      5    14              0            3     10       6\n",
       "9        6      0    19              1            1     27       1\n",
       "10       5      1    18              1            2      7       2\n",
       "..     ...    ...   ...            ...          ...    ...     ...\n",
       "623      1      2    18              1            3      7       3\n",
       "625      2      5     2              1            6     13       3\n",
       "630      1      6    18              1            7      7       2\n",
       "633      6      1     8              1            2      8       7\n",
       "635      6      2     2              0            7     13       7\n",
       "\n",
       "[331 rows x 7 columns]"
      ]
     },
     "execution_count": 94,
     "metadata": {},
     "output_type": "execute_result"
    }
   ],
   "source": [
    "#building predictive model , convert categorical to numerical data\n",
    "from sklearn.preprocessing import LabelEncoder\n",
    "var_mod = ['city','toss_decision','venue','team1','team2']\n",
    "le = LabelEncoder()\n",
    "for i in var_mod:\n",
    " df[i] = le.fit_transform(df[i])\n",
    "df"
   ]
  },
  {
   "cell_type": "code",
   "execution_count": 95,
   "id": "945f20df",
   "metadata": {},
   "outputs": [],
   "source": [
    "#Import models from scikit learn module:\n",
    "from sklearn.linear_model import LogisticRegression\n",
    "#from sklearn.cross_validation import KFold #For K-fold cross validation\n",
    "from sklearn.ensemble import RandomForestClassifier\n",
    "from sklearn.tree import DecisionTreeClassifier, export_graphviz\n",
    "from sklearn import metrics\n",
    "#Generic function for making a classification model and accessing performance:\n",
    "def classification_model(model, data, predictors, outcome):\n",
    " model.fit(data[predictors],data[outcome])\n",
    " predictions = model.predict(data[predictors])\n",
    " print(predictions)\n",
    " accuracy = metrics.accuracy_score(predictions,data[outcome])\n",
    " print('Accuracy : %s' % '{0:.3%}'.format(accuracy))"
   ]
  },
  {
   "cell_type": "code",
   "execution_count": 96,
   "id": "a3d341a4",
   "metadata": {},
   "outputs": [
    {
     "name": "stdout",
     "output_type": "stream",
     "text": [
      "[6 1 7 6 2 1 2 7 2 2 7 6 1 6 3 4 6 1 1 6 1 3 7 1 5 1 6 3 4 4 1 4 4 4 3 2 1\n",
      " 1 6 4 1 6 1 6 4 2 1 4 4 2 1 5 2 3 4 1 6 6 7 5 1 1 2 5 1 7 4 1 6 5 5 4 1 1\n",
      " 5 4 2 1 1 2 7 2 4 2 4 2 6 4 1 6 1 3 6 2 4 5 2 4 5 4 4 1 5 4 3 1 4 4 1 2 6\n",
      " 1 1 2 4 1 5 1 4 2 6 1 2 1 2 5 4 3 2 5 6 6 3 4 1 3 1 1 1 1 4 1 5 1 3 1 4 2\n",
      " 2 4 4 6 4 4 5 4 4 1 4 3 7 1 1 5 1 1 2 1 6 1 1 4 1 4 7 1 6 3 3 7 6 6 1 7 4\n",
      " 6 4 1 5 2 5 1 2 5 4 4 7 2 3 1 5 1 5 6 7 1 5 5 1 5 5 2 3 7 1 7 2 4 1 6 6 2\n",
      " 5 7 2 1 4 5 6 5 3 4 2 2 1 6 6 1 7 6 6 1 2 4 5 4 7 2 4 5 4 7 2 6 2 7 6 3 2\n",
      " 1 2 2 5 6 1 7 7 2 1 5 4 2 7 1 2 4 1 6 2 3 6 4 7 7 3 2 1 3 6 4 4 2 3 7 1 2\n",
      " 1 4 7 6 1 5 5 2 5 1 4 2 2 5 1 5 3 6 1 7 3 1 6 3 2 2 5 1 4 7 2 3 2 6 5]\n",
      "Accuracy : 40.483%\n"
     ]
    },
    {
     "name": "stderr",
     "output_type": "stream",
     "text": [
      "C:\\Users\\hprak\\anaconda3\\lib\\site-packages\\sklearn\\utils\\validation.py:993: DataConversionWarning: A column-vector y was passed when a 1d array was expected. Please change the shape of y to (n_samples, ), for example using ravel().\n",
      "  y = column_or_1d(y, warn=True)\n",
      "C:\\Users\\hprak\\anaconda3\\lib\\site-packages\\sklearn\\linear_model\\_logistic.py:814: ConvergenceWarning: lbfgs failed to converge (status=1):\n",
      "STOP: TOTAL NO. of ITERATIONS REACHED LIMIT.\n",
      "\n",
      "Increase the number of iterations (max_iter) or scale the data as shown in:\n",
      "    https://scikit-learn.org/stable/modules/preprocessing.html\n",
      "Please also refer to the documentation for alternative solver options:\n",
      "    https://scikit-learn.org/stable/modules/linear_model.html#logistic-regression\n",
      "  n_iter_i = _check_optimize_result(\n"
     ]
    }
   ],
   "source": [
    "#Logestic Regression.\n",
    "outcome_var=['winner']\n",
    "predictor_var = ['team1', 'team2', 'venue', 'toss_winner','city','toss_decision']\n",
    "model =LogisticRegression()\n",
    "classification_model(model, df,predictor_var,outcome_var)\n"
   ]
  },
  {
   "cell_type": "code",
   "execution_count": 97,
   "id": "2b45887f",
   "metadata": {},
   "outputs": [
    {
     "name": "stdout",
     "output_type": "stream",
     "text": [
      "[6 1 4 1 2 1 7 7 2 2 7 6 1 3 3 1 6 1 1 6 1 3 4 1 5 1 6 9 4 4 1 4 5 4 6 2 1\n",
      " 1 5 4 1 5 1 6 2 2 1 4 4 2 3 5 2 3 4 4 2 3 4 5 1 4 2 5 1 4 1 1 7 5 5 4 1 1\n",
      " 5 4 2 1 4 2 4 3 1 2 5 2 3 5 1 6 1 3 5 2 4 5 2 4 5 4 4 4 5 1 3 3 4 4 3 2 6\n",
      " 1 1 2 4 1 5 1 4 2 5 1 2 3 2 5 4 6 2 5 6 6 3 4 1 3 1 1 1 1 4 1 5 1 3 1 4 2\n",
      " 2 4 5 6 4 1 5 5 5 1 4 6 5 1 1 5 1 1 2 1 6 1 2 4 1 1 4 1 5 3 3 4 5 6 1 7 2\n",
      " 3 4 1 5 2 7 1 3 5 1 1 4 2 6 1 5 1 7 5 7 2 5 5 1 5 7 2 3 4 2 7 2 1 1 5 5 2\n",
      " 5 7 4 1 1 5 6 5 4 5 2 2 1 6 6 1 2 5 3 1 2 4 7 4 7 1 4 7 3 4 2 6 2 7 5 3 2\n",
      " 1 2 2 5 6 1 5 4 2 1 6 3 2 2 1 2 4 3 5 2 3 3 1 4 7 9 3 1 3 5 1 4 7 6 2 4 2\n",
      " 1 4 7 6 1 5 5 2 7 1 4 2 2 6 1 7 7 6 1 7 5 1 6 3 2 2 5 1 1 7 2 6 7 2 5]\n",
      "Accuracy : 43.202%\n"
     ]
    },
    {
     "name": "stderr",
     "output_type": "stream",
     "text": [
      "C:\\Users\\hprak\\anaconda3\\lib\\site-packages\\sklearn\\utils\\validation.py:993: DataConversionWarning: A column-vector y was passed when a 1d array was expected. Please change the shape of y to (n_samples, ), for example using ravel().\n",
      "  y = column_or_1d(y, warn=True)\n"
     ]
    }
   ],
   "source": [
    "#Gaussian NAive bayes algorithm\n",
    "from sklearn.naive_bayes import GaussianNB\n",
    "outcome_var=['winner']\n",
    "predictor_var = ['team1', 'team2', 'venue', 'toss_winner','city','toss_decision']\n",
    "model = GaussianNB() \n",
    "classification_model(model, df,predictor_var,outcome_var)\n"
   ]
  },
  {
   "cell_type": "code",
   "execution_count": 98,
   "id": "ceb22175",
   "metadata": {},
   "outputs": [
    {
     "name": "stdout",
     "output_type": "stream",
     "text": [
      "[7 1 6 6 2 1 2 7 2 3 7 7 1 6 2 7 6 6 2 2 1 3 4 1 5 1 6 3 4 3 1 1 2 5 6 1 2\n",
      " 1 4 2 1 6 1 2 4 2 6 4 4 2 5 1 5 1 1 4 2 2 3 7 1 3 3 4 1 3 6 3 3 4 4 5 1 2\n",
      " 1 2 3 1 1 2 3 3 1 2 3 2 3 5 1 4 1 3 5 1 6 5 1 4 2 4 2 1 5 1 3 5 4 3 1 2 4\n",
      " 1 1 4 2 1 6 5 4 2 6 1 3 5 2 1 4 6 2 3 6 2 3 4 1 3 1 4 1 1 4 1 5 5 3 1 4 2\n",
      " 2 3 2 3 4 1 3 1 4 2 2 6 5 1 1 3 1 1 1 1 6 5 1 2 1 4 7 5 3 3 4 2 5 6 5 7 4\n",
      " 3 4 1 4 2 5 1 4 3 1 7 4 2 6 1 3 1 7 6 7 2 3 1 1 6 7 7 3 7 4 6 2 4 2 5 5 4\n",
      " 6 6 6 1 1 5 5 6 6 5 7 4 1 6 5 1 2 5 6 1 2 3 1 4 7 2 4 2 5 7 2 6 3 4 6 3 2\n",
      " 1 2 1 4 2 2 3 4 3 6 3 5 2 7 1 2 5 1 5 7 3 5 1 4 7 3 4 1 3 7 1 4 2 6 4 1 2\n",
      " 1 4 7 3 1 2 3 4 1 1 2 4 1 3 1 2 4 6 1 7 1 1 7 2 2 7 6 1 1 7 3 6 2 7 3]\n",
      "Accuracy : 65.559%\n"
     ]
    },
    {
     "name": "stderr",
     "output_type": "stream",
     "text": [
      "C:\\Users\\hprak\\anaconda3\\lib\\site-packages\\sklearn\\neighbors\\_classification.py:198: DataConversionWarning: A column-vector y was passed when a 1d array was expected. Please change the shape of y to (n_samples,), for example using ravel().\n",
      "  return self._fit(X, y)\n"
     ]
    }
   ],
   "source": [
    "#applying knn algorithm\n",
    "from sklearn.neighbors import KNeighborsClassifier\n",
    "model = KNeighborsClassifier(n_neighbors=3)\n",
    "classification_model(model, df,predictor_var,outcome_var)"
   ]
  },
  {
   "cell_type": "code",
   "execution_count": 99,
   "id": "eccb956f",
   "metadata": {},
   "outputs": [
    {
     "name": "stderr",
     "output_type": "stream",
     "text": [
      "C:\\Users\\hprak\\anaconda3\\lib\\site-packages\\sklearn\\utils\\validation.py:993: DataConversionWarning: A column-vector y was passed when a 1d array was expected. Please change the shape of y to (n_samples, ), for example using ravel().\n",
      "  y = column_or_1d(y, warn=True)\n"
     ]
    },
    {
     "name": "stdout",
     "output_type": "stream",
     "text": [
      "[7 1 6 6 2 1 2 7 1 2 7 7 1 3 3 7 6 6 1 2 1 3 6 1 5 4 6 3 4 3 1 5 6 5 3 1 2\n",
      " 1 4 6 1 6 1 5 2 2 6 4 4 2 5 4 5 1 3 4 2 5 3 6 1 3 6 4 1 3 6 3 5 4 4 4 1 3\n",
      " 1 3 5 1 2 2 4 3 1 2 3 2 3 5 1 6 1 3 6 1 6 5 1 4 6 4 6 4 5 6 3 5 4 5 3 2 4\n",
      " 1 1 4 4 1 6 5 4 2 6 1 2 5 2 1 4 3 2 5 6 5 3 6 1 3 1 4 1 4 4 4 5 5 3 1 4 2\n",
      " 2 3 6 6 4 1 5 1 4 2 4 3 6 1 1 5 1 1 2 1 6 5 1 4 1 4 7 5 6 3 4 2 5 6 5 7 2\n",
      " 3 4 1 4 2 5 1 4 5 1 7 4 2 3 1 3 1 4 6 7 2 5 1 1 6 7 6 3 7 4 5 2 1 2 6 5 3\n",
      " 6 6 4 2 4 5 6 4 6 5 7 4 1 3 5 1 6 7 3 1 2 3 1 4 7 2 4 1 1 7 2 6 2 7 6 3 2\n",
      " 1 2 4 6 2 1 5 4 2 6 3 1 2 5 1 2 5 3 6 7 3 5 1 4 7 3 4 1 3 7 6 4 2 3 7 4 2\n",
      " 1 4 7 6 1 2 6 5 1 1 3 4 2 3 1 1 7 6 1 7 1 1 7 3 2 7 6 1 6 7 2 3 2 7 3]\n",
      "Accuracy : 74.018%\n"
     ]
    }
   ],
   "source": [
    "#Import Library\n",
    "from sklearn import svm\n",
    "#Assumed you have, X (predictor) and Y (target) for training data set and x_test(predictor)\n",
    "# Create SVM classification object \n",
    "model = svm.SVC(kernel='rbf',gamma='auto') \n",
    "outcome_var=['winner']\n",
    "predictor_var = ['team1', 'team2', 'venue', 'toss_winner','city','toss_decision']\n",
    "# there is various option associated with it, like changing kernel, gamma and C value. Will\n",
    "classification_model(model, df,predictor_var,outcome_var)\n"
   ]
  },
  {
   "cell_type": "code",
   "execution_count": 100,
   "id": "7d353191",
   "metadata": {},
   "outputs": [
    {
     "name": "stdout",
     "output_type": "stream",
     "text": [
      "[7 1 6 7 2 1 2 6 1 2 7 6 1 6 2 7 2 6 2 2 1 3 4 1 5 4 6 5 4 4 1 5 2 4 6 1 2\n",
      " 1 4 6 1 6 1 3 4 5 6 4 4 2 5 4 5 1 3 4 2 2 6 6 1 3 5 4 1 6 6 3 5 5 4 4 1 3\n",
      " 1 3 5 1 1 2 4 3 1 2 3 2 3 5 3 4 1 3 5 1 6 1 1 4 3 4 2 4 5 1 3 5 4 3 1 2 4\n",
      " 1 3 1 2 1 4 5 4 2 6 1 2 5 2 6 4 6 2 4 6 3 3 3 1 3 1 4 1 1 4 4 6 5 3 1 4 2\n",
      " 2 3 2 3 4 6 5 1 4 2 2 6 5 1 3 4 1 1 4 1 4 1 4 2 1 1 7 5 4 3 4 2 5 6 1 7 4\n",
      " 3 4 1 4 2 5 1 4 5 6 7 4 2 6 1 3 1 4 6 7 2 4 1 1 6 7 1 3 7 4 5 1 1 4 4 5 3\n",
      " 6 6 5 2 1 5 5 4 2 5 7 4 1 3 5 3 4 7 6 1 2 5 1 4 6 2 3 2 1 7 2 6 2 4 6 3 2\n",
      " 1 2 1 6 2 2 5 4 2 6 3 1 2 5 1 4 6 1 6 2 3 3 7 4 7 5 4 1 3 6 1 4 2 6 5 4 2\n",
      " 1 4 7 3 1 7 4 4 1 1 3 4 1 3 1 2 7 2 1 6 6 1 7 2 2 7 6 1 6 7 2 6 2 2 3]\n",
      "Accuracy : 73.112%\n"
     ]
    }
   ],
   "source": [
    "#Decision tree algorithm\n",
    "from sklearn import tree\n",
    "model = tree.DecisionTreeClassifier(criterion='gini',random_state = 100,max_depth=10, min_samples_leaf=2)\n",
    "outcome_var=['winner']\n",
    "predictor_var = ['team1', 'team2', 'venue', 'toss_winner','city','toss_decision']\n",
    "classification_model(model, df,predictor_var,outcome_var)\n"
   ]
  },
  {
   "cell_type": "code",
   "execution_count": 101,
   "id": "b30fbfd9",
   "metadata": {},
   "outputs": [
    {
     "name": "stderr",
     "output_type": "stream",
     "text": [
      "C:\\Users\\hprak\\AppData\\Local\\Temp\\ipykernel_12868\\3867564518.py:9: DataConversionWarning: A column-vector y was passed when a 1d array was expected. Please change the shape of y to (n_samples,), for example using ravel().\n",
      "  model.fit(data[predictors],data[outcome])\n"
     ]
    },
    {
     "name": "stdout",
     "output_type": "stream",
     "text": [
      "[7 1 6 1 2 1 2 7 1 3 7 7 1 6 2 7 6 6 1 2 1 3 4 1 5 4 6 5 4 4 1 5 2 5 3 1 2\n",
      " 1 4 6 1 6 1 3 4 5 6 4 4 2 5 4 5 1 3 4 2 5 6 6 1 3 6 4 1 6 6 3 5 5 4 4 1 3\n",
      " 1 3 5 4 2 2 4 3 1 2 3 4 3 5 3 6 1 3 5 1 2 5 1 4 3 4 6 1 5 6 3 5 4 3 1 2 4\n",
      " 1 1 4 2 1 6 5 4 2 6 1 3 5 2 1 4 3 4 5 6 3 3 6 5 4 1 4 1 3 4 4 5 5 3 1 4 2\n",
      " 2 5 2 3 4 1 5 1 6 2 2 3 5 1 1 4 1 1 4 1 6 1 4 2 1 1 7 5 4 3 4 2 5 6 1 7 4\n",
      " 3 4 1 4 2 5 1 4 5 1 7 4 2 3 1 3 1 4 6 7 2 5 1 1 6 7 6 3 7 4 5 1 1 2 6 5 3\n",
      " 6 6 4 2 4 5 6 4 6 5 7 4 1 3 5 1 6 7 6 1 2 5 1 4 7 2 3 2 1 7 2 6 3 7 6 3 2\n",
      " 1 2 4 6 2 1 5 4 3 6 7 1 2 5 1 2 5 1 6 7 4 3 1 4 7 5 4 1 3 7 6 4 2 3 7 1 2\n",
      " 1 4 7 3 1 3 4 5 1 1 3 4 1 7 1 2 7 6 1 7 1 1 7 2 2 7 3 1 6 7 3 3 2 7 3]\n",
      "Accuracy : 86.707%\n"
     ]
    }
   ],
   "source": [
    "#Random forest classifier\n",
    "model = RandomForestClassifier(n_estimators=100, random_state =15)\n",
    "outcome_var = ['winner']\n",
    "predictor_var = ['team1', 'team2', 'venue', 'toss_winner','city','toss_decision']\n",
    "classification_model(model, df,predictor_var,outcome_var)"
   ]
  },
  {
   "cell_type": "code",
   "execution_count": null,
   "id": "7e3e7461",
   "metadata": {},
   "outputs": [],
   "source": []
  },
  {
   "cell_type": "code",
   "execution_count": null,
   "id": "a3aba310",
   "metadata": {},
   "outputs": [],
   "source": []
  }
 ],
 "metadata": {
  "kernelspec": {
   "display_name": "Python 3 (ipykernel)",
   "language": "python",
   "name": "python3"
  },
  "language_info": {
   "codemirror_mode": {
    "name": "ipython",
    "version": 3
   },
   "file_extension": ".py",
   "mimetype": "text/x-python",
   "name": "python",
   "nbconvert_exporter": "python",
   "pygments_lexer": "ipython3",
   "version": "3.9.12"
  }
 },
 "nbformat": 4,
 "nbformat_minor": 5
}
